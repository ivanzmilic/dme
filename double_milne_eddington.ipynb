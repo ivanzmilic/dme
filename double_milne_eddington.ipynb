{
 "cells": [
  {
   "cell_type": "code",
   "execution_count": 1,
   "metadata": {},
   "outputs": [],
   "source": [
    "import numpy as np \n",
    "import matplotlib.pyplot as plt "
   ]
  },
  {
   "cell_type": "markdown",
   "metadata": {},
   "source": [
    "## How to implement our little model here? \n",
    "\n",
    "#### Let's remember what we got: \n",
    "\n",
    "- First we have a normal Milne-Eddington parameters that is described by our usual set of parameters. \n",
    "- Then we have an another one which is also Milne-Eddington - like, but it is NOT infinite and it, of course, has different parameters. \n",
    "\n",
    "So we have one spectrum that is formed by the first atmosphere: \n",
    "\n",
    "## $I_\\lambda^+ = a+\\frac{b}{1+\\eta \\phi_\\lambda}$\n",
    "\n",
    "Then this one is a boundary condition for the second one, where we did integration from 0 to \\tau_\\lambda, that solution looks like: \n",
    "\n",
    "## $I_\\lambda^{++} = I_\\lambda^+ e^{-\\Delta \\tau_\\lambda} + a' + b' - (a'+b'+b'\\Delta\\tau_\\lambda)e^{-\\Delta\\tau_\\lambda} $\n",
    "\n",
    "Reminder that: \n",
    "\n",
    "## $\\Delta \\tau_\\lambda = \\Delta\\tau_c (1+\\eta'\\phi'_\\lambda) $\n",
    "\n",
    "So we can jam this all in one equation but we don't have to, because we are going to implement this numerically anyway! "
   ]
  },
  {
   "cell_type": "code",
   "execution_count": 2,
   "metadata": {},
   "outputs": [],
   "source": [
    "# Let's start with the profile, which is the most tricky part of the game:\n",
    "# This piece of code show how to calculate the Voigt profile, which is an essential \n",
    "# part of the M-E inversion.\n",
    "\n",
    "from scipy.special import wofz\n",
    "\n",
    "# This is the original formulation of Voigt function, by using wofz\n",
    "def V(x, alpha, gamma):\n",
    "    \n",
    "    #Return the Voigt line shape at x with Lorentzian component HWHM gamma\n",
    "    #and Gaussian component HWHM alpha.\n",
    "\n",
    "    sigma = alpha / np.sqrt(2 * np.log(2))\n",
    "\n",
    "    return np.real(wofz((x + 1j*gamma)/sigma/np.sqrt(2))) / sigma /np.sqrt(2*np.pi)\n",
    "\n",
    "\n",
    "\n",
    "# This is a formulation where we \"normalize\" the wavelengths in order to get a dimensionless\n",
    "# wavelength. It should work either way...\n",
    "\n",
    "# center = lambda_0\n",
    "# doppler = doppler widht\n",
    "# damp = damping, in units of doppler broadening\n",
    "# ll = wavelength array\n",
    "\n",
    "def voigt(center,doppler,damp,ll):\n",
    "    \n",
    "    # we often call this reduced wavelength:\n",
    "    doppler *= 1.17 # to convert to halfwidht half maximum\n",
    "    xx = (ll - center)/doppler\n",
    "    return V(xx,1.0,damp)"
   ]
  },
  {
   "cell_type": "code",
   "execution_count": 3,
   "metadata": {},
   "outputs": [],
   "source": [
    "# Let's start implementing here. Firs our old ME model\n",
    "def ME(a,b,eta,v,deltav,damping,lambda0,llambda):\n",
    "    # First let's calulate philambda \n",
    "    c = 2.997E5\n",
    "    # find the shifted line center (due to large scale velocity)\n",
    "    lambdac = lambda0*(1+v/c)\n",
    "    # doppler width in wavelength units:\n",
    "    doppler = deltav/c*lambda0\n",
    "    \n",
    "    phi_lambda = voigt(lambdac,doppler,damping,llambda)\n",
    "    \n",
    "    return a+b/(1.+eta*phi_lambda)"
   ]
  },
  {
   "cell_type": "code",
   "execution_count": 11,
   "metadata": {},
   "outputs": [
    {
     "data": {
      "text/plain": [
       "[<matplotlib.lines.Line2D at 0x259c97d5f10>]"
      ]
     },
     "execution_count": 11,
     "metadata": {},
     "output_type": "execute_result"
    },
    {
     "data": {
      "image/png": "[encoded data removed]",
      "text/plain": [
       "<Figure size 576x360 with 1 Axes>"
      ]
     },
     "metadata": {
      "needs_background": "light"
     },
     "output_type": "display_data"
    }
   ],
   "source": [
    "# Test the function as always: \n",
    "\n",
    "llambda = np.linspace(6301,6302,301)\n",
    "plt.figure(figsize=[8,5])\n",
    "plt.plot(llambda,ME(0.5,0.5,30.,1.0,2.0,0.1,6301.5,llambda))"
   ]
  },
  {
   "cell_type": "markdown",
   "metadata": {},
   "source": [
    "This seems to be working, let's do the full thing:"
   ]
  },
  {
   "cell_type": "code",
   "execution_count": 17,
   "metadata": {},
   "outputs": [],
   "source": [
    "def DME(a,b,eta,v,deltav,damping,bp,etap,vp,deltavp,dampingp,deltatauc,lambda0,llambda):\n",
    "    \n",
    "    # Now we take it easy, let's first calculate the intensity from our first atmosphere:\n",
    "    I_lambda_plus  = ME(a,b,eta,v,deltav,damping,lambda0,llambda)\n",
    "    \n",
    "    # Now we put that into the other one, but first we need phi_lambda_prime for this\n",
    "    \n",
    "    c = 2.997E5\n",
    "    # find the shifted line center (due to large scale velocity)\n",
    "    lambdacp = lambda0*(1+vp/c)\n",
    "    # doppler width in wavelength units:\n",
    "    dopplerp = deltavp/c*lambda0\n",
    "    \n",
    "    phi_lambdap = voigt(lambdacp,dopplerp,dampingp,llambda)\n",
    "    \n",
    "    # This coefficient describes opacity (optical depth) scaling over the wavelengths, relative to opacity (optical depth)\n",
    "    # at the referent (continuum) opacity c.\n",
    "    klambdap = 1+eta*phi_lambdap\n",
    "    \n",
    "    delta_tau_lambda = delta_tau_c * klambdap\n",
    "    \n",
    "    # Don't forget the constraint:\n",
    "    ap = a-bp*delta_tau_c\n",
    "    \n",
    "    bp /= klambdap\n",
    "    \n",
    "    I_lambda_plusplus = I_lambda_plus * np.exp(-delta_tau_lambda) + ap + bp - (ap+bp+bp*delta_tau_lambda)*np.exp(-delta_tau_lambda)\n",
    "    \n",
    "    return I_lambda_plusplus\n",
    "    \n",
    "    \n",
    "    "
   ]
  },
  {
   "cell_type": "code",
   "execution_count": 33,
   "metadata": {},
   "outputs": [
    {
     "data": {
      "text/plain": [
       "[<matplotlib.lines.Line2D at 0x259cae52490>]"
      ]
     },
     "execution_count": 33,
     "metadata": {},
     "output_type": "execute_result"
    },
    {
     "data": {
      "image/png": "[encoded data removed]",
      "text/plain": [
       "<Figure size 576x360 with 1 Axes>"
      ]
     },
     "metadata": {
      "needs_background": "light"
     },
     "output_type": "display_data"
    }
   ],
   "source": [
    "# Let's make an example model and test it! \n",
    "\n",
    "a = 0.5\n",
    "b = 0.5\n",
    "eta = 30.\n",
    "v = 0.0\n",
    "deltav = 1.0\n",
    "damping = 0.1\n",
    "bp = 0.4\n",
    "etap = 100.0\n",
    "vp = 3.0\n",
    "deltavp = 2.0\n",
    "dampingp = 1E-3\n",
    "delta_tau_c = 1E-2\n",
    "\n",
    "spectrum = DME(a,b,eta,v,deltav,damping,ap,bp,etap,vp,deltavp,dampingp,delta_tau_c,6301.5,llambda)\n",
    "plt.figure(figsize=[8,5])\n",
    "plt.plot(llambda,spectrum)\n"
   ]
  },
  {
   "cell_type": "code",
   "execution_count": null,
   "metadata": {},
   "outputs": [],
   "source": []
  }
 ],
 "metadata": {
  "kernelspec": {
   "display_name": "Python 3",
   "language": "python",
   "name": "python3"
  },
  "language_info": {
   "codemirror_mode": {
    "name": "ipython",
    "version": 3
   },
   "file_extension": ".py",
   "mimetype": "text/x-python",
   "name": "python",
   "nbconvert_exporter": "python",
   "pygments_lexer": "ipython3",
   "version": "3.8.5"
  }
 },
 "nbformat": 4,
 "nbformat_minor": 4
}
